{
  "nbformat": 4,
  "nbformat_minor": 0,
  "metadata": {
    "colab": {
      "name": "Imdb.ipynb",
      "version": "0.3.2",
      "provenance": [],
      "include_colab_link": true
    },
    "kernelspec": {
      "name": "python3",
      "display_name": "Python 3"
    },
    "accelerator": "GPU"
  },
  "cells": [
    {
      "cell_type": "markdown",
      "metadata": {
        "id": "view-in-github",
        "colab_type": "text"
      },
      "source": [
        "<a href=\"https://colab.research.google.com/github/anuravi98/fastai-notebooks/blob/master/Imdb.ipynb\" target=\"_parent\"><img src=\"https://colab.research.google.com/assets/colab-badge.svg\" alt=\"Open In Colab\"/></a>"
      ]
    },
    {
      "cell_type": "code",
      "metadata": {
        "id": "5sDjFin99dwc",
        "colab_type": "code",
        "colab": {}
      },
      "source": [
        "from fastai.text import *\n"
      ],
      "execution_count": 0,
      "outputs": []
    },
    {
      "cell_type": "code",
      "metadata": {
        "id": "8ocMwkaU9xJg",
        "colab_type": "code",
        "colab": {}
      },
      "source": [
        "path = untar_data(URLs.IMDB_SAMPLE)"
      ],
      "execution_count": 0,
      "outputs": []
    },
    {
      "cell_type": "code",
      "metadata": {
        "id": "7U-aJ3tW9xMX",
        "colab_type": "code",
        "outputId": "0eaa4129-4552-44c4-c032-992ec0c20997",
        "colab": {
          "base_uri": "https://localhost:8080/",
          "height": 198
        }
      },
      "source": [
        "df = pd.read_csv(path/'texts.csv')\n",
        "df.head()\n"
      ],
      "execution_count": 0,
      "outputs": [
        {
          "output_type": "execute_result",
          "data": {
            "text/html": [
              "<div>\n",
              "<style scoped>\n",
              "    .dataframe tbody tr th:only-of-type {\n",
              "        vertical-align: middle;\n",
              "    }\n",
              "\n",
              "    .dataframe tbody tr th {\n",
              "        vertical-align: top;\n",
              "    }\n",
              "\n",
              "    .dataframe thead th {\n",
              "        text-align: right;\n",
              "    }\n",
              "</style>\n",
              "<table border=\"1\" class=\"dataframe\">\n",
              "  <thead>\n",
              "    <tr style=\"text-align: right;\">\n",
              "      <th></th>\n",
              "      <th>label</th>\n",
              "      <th>text</th>\n",
              "      <th>is_valid</th>\n",
              "    </tr>\n",
              "  </thead>\n",
              "  <tbody>\n",
              "    <tr>\n",
              "      <th>0</th>\n",
              "      <td>negative</td>\n",
              "      <td>Un-bleeping-believable! Meg Ryan doesn't even ...</td>\n",
              "      <td>False</td>\n",
              "    </tr>\n",
              "    <tr>\n",
              "      <th>1</th>\n",
              "      <td>positive</td>\n",
              "      <td>This is a extremely well-made film. The acting...</td>\n",
              "      <td>False</td>\n",
              "    </tr>\n",
              "    <tr>\n",
              "      <th>2</th>\n",
              "      <td>negative</td>\n",
              "      <td>Every once in a long while a movie will come a...</td>\n",
              "      <td>False</td>\n",
              "    </tr>\n",
              "    <tr>\n",
              "      <th>3</th>\n",
              "      <td>positive</td>\n",
              "      <td>Name just says it all. I watched this movie wi...</td>\n",
              "      <td>False</td>\n",
              "    </tr>\n",
              "    <tr>\n",
              "      <th>4</th>\n",
              "      <td>negative</td>\n",
              "      <td>This movie succeeds at being one of the most u...</td>\n",
              "      <td>False</td>\n",
              "    </tr>\n",
              "  </tbody>\n",
              "</table>\n",
              "</div>"
            ],
            "text/plain": [
              "      label                                               text  is_valid\n",
              "0  negative  Un-bleeping-believable! Meg Ryan doesn't even ...     False\n",
              "1  positive  This is a extremely well-made film. The acting...     False\n",
              "2  negative  Every once in a long while a movie will come a...     False\n",
              "3  positive  Name just says it all. I watched this movie wi...     False\n",
              "4  negative  This movie succeeds at being one of the most u...     False"
            ]
          },
          "metadata": {
            "tags": []
          },
          "execution_count": 3
        }
      ]
    },
    {
      "cell_type": "code",
      "metadata": {
        "id": "3XDxsYCf-Dd3",
        "colab_type": "code",
        "colab": {}
      },
      "source": [
        "data_lm = TextDataBunch.from_csv(path, 'texts.csv')\n"
      ],
      "execution_count": 0,
      "outputs": []
    },
    {
      "cell_type": "code",
      "metadata": {
        "id": "CPM8IMFb-FIo",
        "colab_type": "code",
        "colab": {}
      },
      "source": [
        "data_lm.save()\n"
      ],
      "execution_count": 0,
      "outputs": []
    },
    {
      "cell_type": "code",
      "metadata": {
        "id": "dQBLiFkM-JBR",
        "colab_type": "code",
        "colab": {}
      },
      "source": [
        "data = load_data(path)"
      ],
      "execution_count": 0,
      "outputs": []
    },
    {
      "cell_type": "code",
      "metadata": {
        "id": "hhALiLgk-Tr4",
        "colab_type": "code",
        "outputId": "ac35cd7a-ad0e-4406-8a9e-464b4b621739",
        "colab": {
          "base_uri": "https://localhost:8080/",
          "height": 302
        }
      },
      "source": [
        "data = TextClasDataBunch.from_csv(path, 'texts.csv')\n",
        "data.show_batch()\n"
      ],
      "execution_count": 0,
      "outputs": [
        {
          "output_type": "display_data",
          "data": {
            "text/html": [
              "<table border=\"1\" class=\"dataframe\">\n",
              "  <thead>\n",
              "    <tr style=\"text-align: right;\">\n",
              "      <th>text</th>\n",
              "      <th>target</th>\n",
              "    </tr>\n",
              "  </thead>\n",
              "  <tbody>\n",
              "    <tr>\n",
              "      <td>xxbos xxup the xxup shop xxup around xxup the xxup corner is one of the sweetest and most feel - good romantic comedies ever made . xxmaj there 's just no getting around that , and it 's hard to actually put one 's feeling for this film into words . xxmaj it 's not one of those films that tries too hard , nor does it come up with</td>\n",
              "      <td>positive</td>\n",
              "    </tr>\n",
              "    <tr>\n",
              "      <td>xxbos xxmaj now that xxmaj che(2008 ) has finished its relatively short xxmaj australian cinema run ( extremely limited xxunk screen in xxmaj sydney , after xxunk ) , i can xxunk join both xxunk of \" xxmaj at xxmaj the xxmaj movies \" in taking xxmaj steven xxmaj soderbergh to task . \\n \\n  xxmaj it 's usually satisfying to watch a film director change his style /</td>\n",
              "      <td>negative</td>\n",
              "    </tr>\n",
              "    <tr>\n",
              "      <td>xxbos xxmaj this film sat on my xxmaj tivo for weeks before i watched it . i dreaded a self - indulgent xxunk flick about relationships gone bad . i was wrong ; this was an xxunk xxunk into the screwed - up xxunk of xxmaj new xxmaj xxunk . \\n \\n  xxmaj the format is the same as xxmaj max xxmaj xxunk ' \" xxmaj la xxmaj ronde</td>\n",
              "      <td>positive</td>\n",
              "    </tr>\n",
              "    <tr>\n",
              "      <td>xxbos xxmaj many neglect that this is n't just a classic due to the fact that it 's the first xxup 3d game , or even the first xxunk - up . xxmaj it 's also one of the first xxunk games , one of the xxunk definitely the first ) truly claustrophobic games , and just a pretty well - rounded gaming experience in general . xxmaj with graphics</td>\n",
              "      <td>positive</td>\n",
              "    </tr>\n",
              "    <tr>\n",
              "      <td>xxbos i really wanted to love this show . i truly , honestly did . \\n \\n  xxmaj for the first time , gay viewers get their own version of the \" xxmaj the xxmaj bachelor \" . xxmaj with the help of his obligatory \" hag \" xxmaj xxunk , xxmaj james , a good looking , well - to - do thirty - something has the chance</td>\n",
              "      <td>negative</td>\n",
              "    </tr>\n",
              "  </tbody>\n",
              "</table>"
            ],
            "text/plain": [
              "<IPython.core.display.HTML object>"
            ]
          },
          "metadata": {
            "tags": []
          }
        }
      ]
    },
    {
      "cell_type": "code",
      "metadata": {
        "id": "K1w8pAOy-Uxc",
        "colab_type": "code",
        "colab": {}
      },
      "source": [
        "data.vocab.itos[:10]\n",
        "data = (TextList.from_csv(path, 'texts.csv', cols='text')\n",
        "                .split_from_df(col=2)\n",
        "                .label_from_df(cols=0)\n",
        "                .databunch())\n"
      ],
      "execution_count": 0,
      "outputs": []
    },
    {
      "cell_type": "code",
      "metadata": {
        "id": "qVeM4xJ3-g2-",
        "colab_type": "code",
        "colab": {}
      },
      "source": [
        "bs=48\n",
        "path = untar_data(URLs.IMDB)\n",
        "data_lm = (TextList.from_folder(path)\n",
        "           #Inputs: all the text files in path\n",
        "            .filter_by_folder(include=['train', 'test', 'unsup']) \n",
        "           #We may have other temp folders that contain text files so we only keep what's in train and test\n",
        "            .split_by_rand_pct(0.1)\n",
        "           #We randomly split and keep 10% (10,000 reviews) for validation\n",
        "            .label_for_lm()           \n",
        "           #We want to do a language model so we label accordingly\n",
        "            .databunch(bs=bs))\n",
        "data_lm.save('data_lm.pkl')"
      ],
      "execution_count": 0,
      "outputs": []
    },
    {
      "cell_type": "code",
      "metadata": {
        "id": "JiBm2ojJ-1Jp",
        "colab_type": "code",
        "outputId": "5afe5635-d967-43ae-9d15-4c5259984c20",
        "colab": {
          "base_uri": "https://localhost:8080/",
          "height": 302
        }
      },
      "source": [
        "data_lm = load_data(path, 'data_lm.pkl', bs=bs)\n",
        "data_lm.show_batch()"
      ],
      "execution_count": 0,
      "outputs": [
        {
          "output_type": "display_data",
          "data": {
            "text/html": [
              "<table border=\"1\" class=\"dataframe\">\n",
              "  <thead>\n",
              "    <tr style=\"text-align: right;\">\n",
              "      <th>idx</th>\n",
              "      <th>text</th>\n",
              "    </tr>\n",
              "  </thead>\n",
              "  <tbody>\n",
              "    <tr>\n",
              "      <td>0</td>\n",
              "      <td>i disliked , however , was all of the plot complications . xxmaj those could have been okay , if the scriptwriters had taken the time to explain all of them through . xxmaj but what was the purpose of the secret society in the mental institution , specifically ? xxmaj why were they protected from xxmaj michael 's damage until a certain point ? xxmaj what exactly were they</td>\n",
              "    </tr>\n",
              "    <tr>\n",
              "      <td>1</td>\n",
              "      <td>see xxup anything xxup else . xxbos xxmaj comedy is a hard beast to conquer . xxmaj ishimoto fails on all accounts , as a writer and director . xxmaj some things , like making movies that are funny , just need to be left to the professionals . 1 out of 10 . xxmaj awful . xxmaj it was n't funny . i tried to laugh but it just</td>\n",
              "    </tr>\n",
              "    <tr>\n",
              "      <td>2</td>\n",
              "      <td>is not a huge improvement over the cemetery in xxup plan 9 xxup from xxup outer xxup space . xxmaj it gets worse when we meet the creatures in it . xxmaj there is nothing really wrong with the character design and make - up effects here ( well ... except for the guy with no scalp , the guy with a pointy chin and forehead , and the fat</td>\n",
              "    </tr>\n",
              "    <tr>\n",
              "      <td>3</td>\n",
              "      <td>like this , people think it 's actually okay to make this filth and ask unsuspecting people to pay money to sit through it . xxmaj it 's sadism . xxbos xxmaj as i post this comment , imdb currently rates xxmaj alfred xxmaj hitchcock 's subpar xxmaj saboteur a 7.3 / 10 . xxmaj personally , i rated it less than half that . xxmaj honestly , i ca</td>\n",
              "    </tr>\n",
              "    <tr>\n",
              "      <td>4</td>\n",
              "      <td>film , i was disappointed . xxmaj the acting is stilted , and the attempts at comedy are woefully out of place and forced . xxmaj and i 'm sorry , but a boy being chased by a turd in a xxunk is not funny or scary , it 's just stupid . i grew up on the xxmaj bell xxmaj witch legend , so i know quite a bit</td>\n",
              "    </tr>\n",
              "  </tbody>\n",
              "</table>"
            ],
            "text/plain": [
              "<IPython.core.display.HTML object>"
            ]
          },
          "metadata": {
            "tags": []
          }
        }
      ]
    },
    {
      "cell_type": "code",
      "metadata": {
        "id": "EERYwOv7AMQm",
        "colab_type": "code",
        "outputId": "ac36b5b1-01b4-408c-d029-313c901beadb",
        "colab": {
          "base_uri": "https://localhost:8080/",
          "height": 35
        }
      },
      "source": [
        "learn = language_model_learner(data_lm, AWD_LSTM, drop_mult=0.3)\n",
        "learn.lr_find()"
      ],
      "execution_count": 0,
      "outputs": [
        {
          "output_type": "display_data",
          "data": {
            "text/html": [
              ""
            ],
            "text/plain": [
              "<IPython.core.display.HTML object>"
            ]
          },
          "metadata": {
            "tags": []
          }
        },
        {
          "output_type": "stream",
          "text": [
            "LR Finder is complete, type {learner_name}.recorder.plot() to see the graph.\n"
          ],
          "name": "stdout"
        }
      ]
    },
    {
      "cell_type": "code",
      "metadata": {
        "id": "3UutJVpZB2pl",
        "colab_type": "code",
        "outputId": "9369eaba-a83d-4046-9f82-d2620a21b30e",
        "colab": {
          "base_uri": "https://localhost:8080/",
          "height": 284
        }
      },
      "source": [
        "learn.recorder.plot(skip_end=15)\n"
      ],
      "execution_count": 0,
      "outputs": [
        {
          "output_type": "display_data",
          "data": {
            "image/png": "[encoded data removed]",
            "text/plain": [
              "<Figure size 432x288 with 1 Axes>"
            ]
          },
          "metadata": {
            "tags": []
          }
        }
      ]
    },
    {
      "cell_type": "code",
      "metadata": {
        "id": "qJVxIOmLB7wh",
        "colab_type": "code",
        "outputId": "773ea1e0-6322-40e8-8972-eeb95f9e1fe4",
        "colab": {
          "base_uri": "https://localhost:8080/",
          "height": 78
        }
      },
      "source": [
        "learn.fit_one_cycle(1, 1e-2, moms=(0.8,0.7))\n"
      ],
      "execution_count": 0,
      "outputs": [
        {
          "output_type": "display_data",
          "data": {
            "text/html": [
              "<table border=\"1\" class=\"dataframe\">\n",
              "  <thead>\n",
              "    <tr style=\"text-align: left;\">\n",
              "      <th>epoch</th>\n",
              "      <th>train_loss</th>\n",
              "      <th>valid_loss</th>\n",
              "      <th>accuracy</th>\n",
              "      <th>time</th>\n",
              "    </tr>\n",
              "  </thead>\n",
              "  <tbody>\n",
              "    <tr>\n",
              "      <td>0</td>\n",
              "      <td>4.195319</td>\n",
              "      <td>4.066141</td>\n",
              "      <td>0.292898</td>\n",
              "      <td>44:11</td>\n",
              "    </tr>\n",
              "  </tbody>\n",
              "</table>"
            ],
            "text/plain": [
              "<IPython.core.display.HTML object>"
            ]
          },
          "metadata": {
            "tags": []
          }
        }
      ]
    },
    {
      "cell_type": "code",
      "metadata": {
        "id": "HI_rusrfCAU5",
        "colab_type": "code",
        "outputId": "4cda7007-9c31-460b-d4fb-c6ca6ca7b904",
        "colab": {
          "base_uri": "https://localhost:8080/",
          "height": 4510
        }
      },
      "source": [
        "#learn.save('fit_head')\n",
        "learn.load('fit_head')\n"
      ],
      "execution_count": 0,
      "outputs": [
        {
          "output_type": "stream",
          "text": [
            "/usr/local/lib/python3.6/dist-packages/fastai/basic_train.py:327: UserWarning: Wasn't able to properly load the optimizer state again.\n",
            "  except: warn(\"Wasn't able to properly load the optimizer state again.\")\n"
          ],
          "name": "stderr"
        },
        {
          "output_type": "execute_result",
          "data": {
            "text/plain": [
              "LanguageLearner(data=TextLMDataBunch;\n",
              "\n",
              "Train: LabelList (90000 items)\n",
              "x: LMTextList\n",
              "xxbos xxmaj most of this film was okay , for a sequel of a sequel of a sequel ... \n",
              " \n",
              "  i was impressed by the amount of suspense there was ; i xxup had actually expecting that to be chucked out the window in favor of gore , gore , gore . xxmaj it was n't , but there 's some pretty ridiculous deaths . \n",
              " \n",
              "  xxmaj the thing that i disliked , however , was all of the plot complications . xxmaj those could have been okay , if the scriptwriters had taken the time to explain all of them through . xxmaj but what was the purpose of the secret society in the mental institution , specifically ? xxmaj why were they protected from xxmaj michael 's damage until a certain point ? xxmaj what exactly were they going to do with the baby ? xxmaj how did xxmaj jaime xxmaj lloyd get pregnant , for that matter ? xxmaj why lock her up for 20 years for her to get pregnant , too ? xxmaj why did xxmaj michael kill all his co - conspirators in the end ? xxmaj why were there fetuses in the lab ? xxmaj the actors seemed to have \" figured it all out \" once they saw the fetuses .. xxmaj but it was never explained to the audience . \n",
              " \n",
              "  xxmaj if you 're just going to watch this film to see people get snuffed , then this'll be okay for you .. xxmaj however , if you ca n't stand a plot being thrown at you which remains unresolved by the time the credits roll , you should go watch something else .,xxbos i did n't like this movie for many reasons - xxup very xxup boring ! xxmaj it was interesting how they thought what the future would look like in this , but seriously i was very bored watching this . xxmaj there was hardly any action . xxmaj although the xxmaj classical orchestra soundtrack was very nice . xxmaj the visuals were very creative . xxmaj whenever this movie pops on xxup tv , i feel like changing the station instantly . xxmaj not because it is a bad movie , just because i know what i am in for when watching this - complete and total boredom . xxmaj it is a movie i saw when i was young , but i never got into the science fiction thing ... because it simply was n't real . xxmaj just like this movie - very unrealistic . i never understood half the movie anyway .,xxbos i saw this one remastered on xxup dvd . xxmaj it had a big picture of xxmaj sandra on it and said \" xxmaj starring xxmaj sandra xxrep 4 . \" and made it seem like she had a big part in it . xxmaj not so . xxmaj she 's barely in it . xxmaj she does what she can with the script , but that 's not much . \n",
              " \n",
              "  xxmaj the sound was awful . xxmaj by that i mean things did n't go together . xxmaj shots would be fired and the number of shots did n't correspond to the sound . xxmaj people talking in a car while it 's moving and the shot is from outside the windshield but there 's no motor noise , road noise , or any other sound . xxmaj kind of weird . \n",
              " \n",
              "  xxmaj score was awful . xxmaj it sounded like the same few notes over and over . xxmaj dialog really awful . \n",
              " \n",
              "  xxmaj acting was awful , i could n't believe any of it . xxmaj fight scenes were like a xxmaj batman comic without the \" xxup biff \" , and \" xxup bam \" . xxmaj they were really lame . xxmaj the shooting scenes , i mean with firearms , were laughable , literally . i fast - forwarded through a lot of this movie . xxmaj even then , it was too long .,xxbos xxup danger : xxmaj watch for falling spoilers ... \n",
              " \n",
              "  xxmaj boy , was this a bad movie . i know that they were going for a \" true love conquers all \" kind of thing , but about all this film conquered was about xxunk felt more like 9 ) hours of my afternoon which i will never get back . xxmaj the movie is about two young lovers named xxmaj kai and xxmaj gerta who live in a remote town in a fantasy world . xxmaj kai is the much - abused bellboy at a hotel owned by xxmaj gerta 's father . xxmaj at first xxmaj gerta ignores xxmaj kai 's advances but she eventually warms up to him much to the disgust of ( xxmaj you xxmaj guessed xxmaj it ! ) xxmaj gerta 's father . xxmaj as if this obstacle was n't enough to overcome , an evil snow queen shoots a shard of glass in xxmaj kai 's eye and he becomes a mean person treats xxmaj gerta poorly . xxmaj kai is eventually taken to the xxmaj snow xxmaj queen 's fortress ( xxmaj which is the same set as the hotel just covered in ice , because the good people at xxmaj hallmark like to go all out ) and xxmaj gerta sets out on a mission to get xxmaj kai back . xxmaj along the way she runs into the 3 other seasons that are evil in their own special way , but xxmaj gerta escapes them with the help of some dull and forgettable characters she meets along the way . ( xxmaj all the while you will want to turn it off , but ca n't force yourself to do it . xxmaj it 's probably the most evil and most effective spells cast by the xxmaj snow xxmaj queen ) xxmaj anyways , i will spare you from the ending because anything you can think up in your head right now is probably better then how they ended it . xxmaj so , in conclusion , the xxmaj snow xxmaj queen is an incredibly boring movie , which takes the fan out of fantasy .,xxbos i have just written a comment to \" xxup aces xxup high \" ( 1976 ) and that remind me of this film which i watched as kid when it was released ; since then i have watched it only once and that was more than enough . xxmaj as xxmaj kevin well says \" it is a complete waste of time \" . xxmaj apart from the dog - fights which are nicely done the rest is a sequence of badly patched scenes with actors struggling with a lousy script and equally lousy direction . i do not remember the silly xxmaj german accents mentioned by xxmaj kevin in his comment , but that is another pathetic mistake ; if xxmaj corman tried to make more convincing the characterization of the xxmaj german pilots why did n't he use xxmaj german actors or have those parts dubbed ? xxmaj on the other hand is good example of the appalling xxmaj hollywood - style of film - making with their \" villains \" so clearly identifiable , not only by their cruel actions but also by their grotesque accents . \n",
              " \n",
              "  xxmaj talking about \" cruel actions \" the ridiculous scene were xxmaj lieutenant xxmaj hermann xxmaj goering murders xxmaj english nurses during an attack on an airbase is an absolutely disgusting piece of propaganda done with \" historical hindsight \" . xxmaj if you want to a see a factual , moving , very well acted and directed film about the air war during xxup wwi watch \" xxup aces xxup high \" ( 1976 ) or that wonderful classic \" xxup the xxup dawn xxup patrol \" ( 1938 ) you shall not be disappointed .\n",
              "y: LMLabelList\n",
              ",,,,\n",
              "Path: /root/.fastai/data/imdb;\n",
              "\n",
              "Valid: LabelList (10000 items)\n",
              "x: LMTextList\n",
              "xxbos xxup rks films always have been commercial films which suited the 90 's , from xxup xxunk , xxup xxunk \n",
              " \n",
              "  xxmaj his last few films xxup khakee were watchable xxup family was crap \n",
              " \n",
              "  xxmaj this film is a decent film but could be better \n",
              " \n",
              "  xxmaj the problem lies in there is lot of old fashioned clichés thrown in and many scenes come out too filmy and lengthy \n",
              " \n",
              "  xxmaj ajay xxmaj devgan 's character is shown very well but his character gets heroic which could be subtle \n",
              " \n",
              "  xxmaj the lengthy flashback could be avoided as xxunk are simply long drawn \n",
              " \n",
              "  xxmaj even the street play in the second half look too simplistic and hardly a solution though the message is well brought out \n",
              " \n",
              "  xxmaj direction by xxup rks is decent , though it could be better xxmaj music is okay \n",
              " \n",
              "  xxmaj ajay xxmaj devgan looks the part very well and is at ease playing his part mostly though at times he does look ill at ease in light scenes xxmaj he excels in dramatics xxmaj vidya excels in the scene front of media xxmaj pankaj has a not proper defined role and too filmy yet he excels in his part xxmaj darshan xxmaj jariwala hams as the old age villain the rest are okay,xxbos xxmaj seeing as i hate reading long essays hoping to find a point and being disappointed , i will first tell everyone that this movie was terrible . xxmaj downright terrible . xxmaj and not , surprisingly for the reasons mentioned in the first review . i thought i might agree with him , seeing as he gave the movie the rank it deserved , but was xxunk xxunk upon reading what he said . i am quite ashamed to be taking the same side as someone who commented that the movie \" definitely lacks good - looking females . \" xxmaj let me be the first to say , \" xxmaj wow ! that was definitely some serious in - depth reviewing there . xxmaj my mind can hardly comprehend the philosophical musings about this movie . \" xxmaj seriously though , a lack of \" good - looking females \" should n't be considered an essential to a movie . xxmaj if you 're desperate enough for \" good - looking females \" you should really watch other types of movies , not necessarily falling into the sci - fi category .,xxbos \" xxmaj the xxmaj final xxmaj comedown \" wants to \" say something \" about racism and inner - city violence ; unfortunately , the message is xxunk by the nonsensical script , the amateurish production , and the heavy - handed polemics . xxmaj how heavy - handed , you ask ? xxmaj to give you just one example , a black doctor comes out of his hiding place , unarmed , with his hands up in the air , ready to surrender to the police : one of the ( all - white ) cops says \" xxmaj do n't shoot him , he 's a doctor \" , to which another cop replies : \" xxmaj so what ? xxmaj he 's still a n xxrep 4 * r \" , and proceeds to shoot him in cold blood . xxmaj the cops are portrayed as ignorant , racist killers , even though at the end there are just as many dead people among them as there are among the black people who staged the riot . xxmaj and this whole event was meant somehow to \" xxunk \" the white folks to the demeaning treatment of the black folks , when in fact something like this can only breed more hate and violence on both sides . xxmaj pamela xxmaj jones , as xxmaj williams ' girlfriend , briefly lights up the screen with her smile and body , particularly in a tender sex scene , and elevates the rating of this movie from 1 to 2 out of 10 .,xxbos xxmaj this movie examines the now infamous xxmaj wannsee xxmaj conference where top xxmaj nazis gathered to discuss the organisation and implementation of the \" xxmaj final xxmaj solution \" xxmaj first off , i want to say i was amazed to see xxmaj kenneth xxmaj branagh play a xxmaj nazi . xxmaj with the slicked back blonde hair , he certainly looked the part but he did n't really act the part well . xxmaj there was none of the menace & cruelty and in the end , he came out looking like a grinning cheerleader , keeping the meeting going . xxmaj the real xxmaj xxunk would not have let the conference get out of control the way it did in the film . \n",
              " \n",
              "  xxmaj the best performance of all was undoubtedly xxmaj colin xxmaj firth who played xxmaj dr xxmaj william xxmaj xxunk , the man who wrote the 1935 xxmaj nuremberg race laws and who gave \" legal xxunk \" to everything the xxmaj nazis did . xxmaj firth 's performance was stunning , the main vocal opponent to what xxmaj xxunk was proposing . xxmaj the best part of all was when he was verbally dressing down one of the xxmaj nazi thugs . xxmaj the thug muttered \" i 'll remember you \" and xxmaj firth replies \" you should ! i 'm very well - known ! ! \" xxmaj the film is historically accurate but let 's boil it down to what it really is - 90 minutes of a group of men around a table discussing , shouting and bragging . xxmaj there 's no excitement , no real conflicts ( except the brief argument ) . xxmaj it 's just 90 minutes of talking ! xxmaj same room , same table , same people . \n",
              " \n",
              "  i 'm not sure if the xxup dvd is worth the money . i for one felt short - changed .,xxbos xxmaj this , which was shown dubbed in xxmaj italian at a xxmaj rome cinema ( not as bad as it sounds ) after being presented at the xxmaj rome xxmaj film xxmaj festival , is very much an art film and a festival film , guaranteed to charm and delight such audiences for its distinctive style , droll humor ; ability to draw comedy from the suffering of others ; appealing , cheery music ; spot - on performances ; overriding sweetness and humanity -- but doomed , because of its oddity and lack of a compelling story line , to leave average audiences wondering what they 're watching it for and why anyone admires it , how it even got made . \n",
              " \n",
              "  xxmaj andersson gives us almost a series of dry skits . xxmaj running through them are various themes . xxmaj money : a guy at the next table ( xxmaj waldemar xxmaj xxunk ) nicks the wallet of a rich bore talking on a cell phone in a restaurant over a glass of brandy , then goes and orders a set of posh suits made to order ; a deadbeat son calls his celebrated father away from an elaborate gathering to beg him for one more loan . a shrink worries aloud about his depleted investments while his wife humps him in bed wearing only a shiny xxmaj viking helmet . \n",
              " \n",
              "  xxmaj depression : an elementary teacher ( xxmaj jessica xxmaj nilsson ) breaks down in class because her husband has called her a \" harpy ; \" the rug salesman spouse ( xxmaj xxunk xxmaj xxunk ) collapses before clients because he 's called her that . xxmaj several men have depressing dreams . xxmaj but hey -- this is xxmaj sweden . xxmaj is n't everybody depressed ? xxmaj love problems : a fat bohemian couple is perpetually breaking up ; a girl groupie has fantasies about a lead guitarist , xxmaj xxunk ( xxmaj eric xxmaj xxunk ) . xxmaj wives slam doors when their husbands start to practice their instruments . ( xxmaj music too is obviously a unifying theme . xxmaj besides the dashing guitarist there 's a tuba and a drum player who 're in a xxmaj xxunk band and also play in marches and funerals . xxmaj every scene has an added lilt from the music , which xxunk links one sequence with another . ) a raging storm outside the window of many scenes , violent rain , people out in it , thunder so loud it sounds like a battle raging across the land . xxmaj this also xxunk the tone and gives the impression various scenes are happening on the same xxunk tempestuous day . \n",
              " \n",
              "  xxmaj andersson is a master of visual composition and the static middle - distance shot and the film has a foggy gray - green look engineered by xxup dp xxmaj gustav xxmaj xxunk that 's perfect because it evokes the gloom of a xxmaj swedish winter but also twinkles with the subtle colors of the director 's wit , which ends every scene with a smile . xxmaj one almost never knew xxunk could be so beautiful . ( xxmaj or perhaps one did : xxmaj xxunk xxmaj sokurov creates such effects sometimes in very different contexts . ) xxmaj within scenes and in the film as a whole there 's a kind of stillness that comes out of the visual style , the pacing of scenes , and the detached humanism of the overall outlook . xxmaj there 's something about a fully mastered style that 's calming , reassuring . \n",
              " \n",
              "  xxmaj not everything works equally well . xxmaj one may feel impatient with the succession of barely related scenes , which read too much sometimes like the work of a xxmaj saturday xxmaj night xxmaj live writer in need of xxmaj prozac . xxmaj since some scenes plainly move you or draw a laugh , it 's obvious that others fall a little flat . \n",
              " \n",
              "  xxmaj but some scenes are real zingers , and one obviously triumphant climax of pure magic is a dream -- described and then visualized dreams being another important thread ) in which the girl groupie imagines herself in a wedding dress newly married to her fey guitarist ideal , who plays a delicate series of riffs while a crowd of admirers gathers outside a big window . xxmaj the viewpoint switches to outside and the window slides slowly away as if the building the dream newlyweds look out of were a train moving out of a station to take them to their honeymoon . xxmaj it 's a fresh , subtle , and rather sublime effect . \n",
              " \n",
              "  xxmaj eventually one may feel everything in xxmaj you the xxmaj living ( xxmaj du xxmaj xxunk ) is a dream , including the recurring scene where the barman is always striking a bronze bell and announcing last order time , whereupon all the torpid customers rise from their tables and go up to get one more drink . \n",
              " \n",
              "  xxmaj an xxmaj italian reviewer called this \" a small , great film , \" and that 's right . xxmaj it limits itself in a dozen ways , but there is greatness in it . xxmaj roy xxmaj andersson is a little master ( like some medieval xxunk ) of the inner comedies of xxmaj scandanavian gloom , and this is a film unlike any other . xxmaj shown this year as a xxmaj cannes \" xxmaj un xxmaj certain xxmaj regard \" selection , this is also the xxmaj swedish entry for the 2007 xxmaj best xxmaj foreign xxmaj oscar . xxmaj hard to say what xxmaj bergman would think , but xxmaj andersson worked with him ; is famous for his elaborately produced xxup tv commercials , some of which one can see on youtube . xxmaj bergman called them \" the best commercials in the world . \" xxmaj it will be interesting to see if this director , whose craft is as subtle as his viewpoint , will start working in longer segments some time . xxmaj meanwhile , any good film buff really needs to get a look at this . \n",
              " \n",
              "  \" xxmaj xxunk \" is n't quite the right word . xxmaj that means delight in the misery of others . xxmaj andersson is teaching us to delight in the misery of all of us .\n",
              "y: LMLabelList\n",
              ",,,,\n",
              "Path: /root/.fastai/data/imdb;\n",
              "\n",
              "Test: None, model=SequentialRNN(\n",
              "  (0): AWD_LSTM(\n",
              "    (encoder): Embedding(60004, 400, padding_idx=1)\n",
              "    (encoder_dp): EmbeddingDropout(\n",
              "      (emb): Embedding(60004, 400, padding_idx=1)\n",
              "    )\n",
              "    (rnns): ModuleList(\n",
              "      (0): WeightDropout(\n",
              "        (module): LSTM(400, 1150, batch_first=True)\n",
              "      )\n",
              "      (1): WeightDropout(\n",
              "        (module): LSTM(1150, 1150, batch_first=True)\n",
              "      )\n",
              "      (2): WeightDropout(\n",
              "        (module): LSTM(1150, 400, batch_first=True)\n",
              "      )\n",
              "    )\n",
              "    (input_dp): RNNDropout()\n",
              "    (hidden_dps): ModuleList(\n",
              "      (0): RNNDropout()\n",
              "      (1): RNNDropout()\n",
              "      (2): RNNDropout()\n",
              "    )\n",
              "  )\n",
              "  (1): LinearDecoder(\n",
              "    (decoder): Linear(in_features=400, out_features=60004, bias=True)\n",
              "    (output_dp): RNNDropout()\n",
              "  )\n",
              "), opt_func=functools.partial(<class 'torch.optim.adam.Adam'>, betas=(0.9, 0.99)), loss_func=FlattenedLoss of CrossEntropyLoss(), metrics=[<function accuracy at 0x7fd39254b620>], true_wd=True, bn_wd=True, wd=0.01, train_bn=True, path=PosixPath('/root/.fastai/data/imdb'), model_dir='models', callback_fns=[functools.partial(<class 'fastai.basic_train.Recorder'>, add_time=True, silent=False)], callbacks=[RNNTrainer\n",
              "learn: LanguageLearner(data=TextLMDataBunch;\n",
              "\n",
              "Train: LabelList (90000 items)\n",
              "x: LMTextList\n",
              "xxbos xxmaj most of this film was okay , for a sequel of a sequel of a sequel ... \n",
              " \n",
              "  i was impressed by the amount of suspense there was ; i xxup had actually expecting that to be chucked out the window in favor of gore , gore , gore . xxmaj it was n't , but there 's some pretty ridiculous deaths . \n",
              " \n",
              "  xxmaj the thing that i disliked , however , was all of the plot complications . xxmaj those could have been okay , if the scriptwriters had taken the time to explain all of them through . xxmaj but what was the purpose of the secret society in the mental institution , specifically ? xxmaj why were they protected from xxmaj michael 's damage until a certain point ? xxmaj what exactly were they going to do with the baby ? xxmaj how did xxmaj jaime xxmaj lloyd get pregnant , for that matter ? xxmaj why lock her up for 20 years for her to get pregnant , too ? xxmaj why did xxmaj michael kill all his co - conspirators in the end ? xxmaj why were there fetuses in the lab ? xxmaj the actors seemed to have \" figured it all out \" once they saw the fetuses .. xxmaj but it was never explained to the audience . \n",
              " \n",
              "  xxmaj if you 're just going to watch this film to see people get snuffed , then this'll be okay for you .. xxmaj however , if you ca n't stand a plot being thrown at you which remains unresolved by the time the credits roll , you should go watch something else .,xxbos i did n't like this movie for many reasons - xxup very xxup boring ! xxmaj it was interesting how they thought what the future would look like in this , but seriously i was very bored watching this . xxmaj there was hardly any action . xxmaj although the xxmaj classical orchestra soundtrack was very nice . xxmaj the visuals were very creative . xxmaj whenever this movie pops on xxup tv , i feel like changing the station instantly . xxmaj not because it is a bad movie , just because i know what i am in for when watching this - complete and total boredom . xxmaj it is a movie i saw when i was young , but i never got into the science fiction thing ... because it simply was n't real . xxmaj just like this movie - very unrealistic . i never understood half the movie anyway .,xxbos i saw this one remastered on xxup dvd . xxmaj it had a big picture of xxmaj sandra on it and said \" xxmaj starring xxmaj sandra xxrep 4 . \" and made it seem like she had a big part in it . xxmaj not so . xxmaj she 's barely in it . xxmaj she does what she can with the script , but that 's not much . \n",
              " \n",
              "  xxmaj the sound was awful . xxmaj by that i mean things did n't go together . xxmaj shots would be fired and the number of shots did n't correspond to the sound . xxmaj people talking in a car while it 's moving and the shot is from outside the windshield but there 's no motor noise , road noise , or any other sound . xxmaj kind of weird . \n",
              " \n",
              "  xxmaj score was awful . xxmaj it sounded like the same few notes over and over . xxmaj dialog really awful . \n",
              " \n",
              "  xxmaj acting was awful , i could n't believe any of it . xxmaj fight scenes were like a xxmaj batman comic without the \" xxup biff \" , and \" xxup bam \" . xxmaj they were really lame . xxmaj the shooting scenes , i mean with firearms , were laughable , literally . i fast - forwarded through a lot of this movie . xxmaj even then , it was too long .,xxbos xxup danger : xxmaj watch for falling spoilers ... \n",
              " \n",
              "  xxmaj boy , was this a bad movie . i know that they were going for a \" true love conquers all \" kind of thing , but about all this film conquered was about xxunk felt more like 9 ) hours of my afternoon which i will never get back . xxmaj the movie is about two young lovers named xxmaj kai and xxmaj gerta who live in a remote town in a fantasy world . xxmaj kai is the much - abused bellboy at a hotel owned by xxmaj gerta 's father . xxmaj at first xxmaj gerta ignores xxmaj kai 's advances but she eventually warms up to him much to the disgust of ( xxmaj you xxmaj guessed xxmaj it ! ) xxmaj gerta 's father . xxmaj as if this obstacle was n't enough to overcome , an evil snow queen shoots a shard of glass in xxmaj kai 's eye and he becomes a mean person treats xxmaj gerta poorly . xxmaj kai is eventually taken to the xxmaj snow xxmaj queen 's fortress ( xxmaj which is the same set as the hotel just covered in ice , because the good people at xxmaj hallmark like to go all out ) and xxmaj gerta sets out on a mission to get xxmaj kai back . xxmaj along the way she runs into the 3 other seasons that are evil in their own special way , but xxmaj gerta escapes them with the help of some dull and forgettable characters she meets along the way . ( xxmaj all the while you will want to turn it off , but ca n't force yourself to do it . xxmaj it 's probably the most evil and most effective spells cast by the xxmaj snow xxmaj queen ) xxmaj anyways , i will spare you from the ending because anything you can think up in your head right now is probably better then how they ended it . xxmaj so , in conclusion , the xxmaj snow xxmaj queen is an incredibly boring movie , which takes the fan out of fantasy .,xxbos i have just written a comment to \" xxup aces xxup high \" ( 1976 ) and that remind me of this film which i watched as kid when it was released ; since then i have watched it only once and that was more than enough . xxmaj as xxmaj kevin well says \" it is a complete waste of time \" . xxmaj apart from the dog - fights which are nicely done the rest is a sequence of badly patched scenes with actors struggling with a lousy script and equally lousy direction . i do not remember the silly xxmaj german accents mentioned by xxmaj kevin in his comment , but that is another pathetic mistake ; if xxmaj corman tried to make more convincing the characterization of the xxmaj german pilots why did n't he use xxmaj german actors or have those parts dubbed ? xxmaj on the other hand is good example of the appalling xxmaj hollywood - style of film - making with their \" villains \" so clearly identifiable , not only by their cruel actions but also by their grotesque accents . \n",
              " \n",
              "  xxmaj talking about \" cruel actions \" the ridiculous scene were xxmaj lieutenant xxmaj hermann xxmaj goering murders xxmaj english nurses during an attack on an airbase is an absolutely disgusting piece of propaganda done with \" historical hindsight \" . xxmaj if you want to a see a factual , moving , very well acted and directed film about the air war during xxup wwi watch \" xxup aces xxup high \" ( 1976 ) or that wonderful classic \" xxup the xxup dawn xxup patrol \" ( 1938 ) you shall not be disappointed .\n",
              "y: LMLabelList\n",
              ",,,,\n",
              "Path: /root/.fastai/data/imdb;\n",
              "\n",
              "Valid: LabelList (10000 items)\n",
              "x: LMTextList\n",
              "xxbos xxup rks films always have been commercial films which suited the 90 's , from xxup xxunk , xxup xxunk \n",
              " \n",
              "  xxmaj his last few films xxup khakee were watchable xxup family was crap \n",
              " \n",
              "  xxmaj this film is a decent film but could be better \n",
              " \n",
              "  xxmaj the problem lies in there is lot of old fashioned clichés thrown in and many scenes come out too filmy and lengthy \n",
              " \n",
              "  xxmaj ajay xxmaj devgan 's character is shown very well but his character gets heroic which could be subtle \n",
              " \n",
              "  xxmaj the lengthy flashback could be avoided as xxunk are simply long drawn \n",
              " \n",
              "  xxmaj even the street play in the second half look too simplistic and hardly a solution though the message is well brought out \n",
              " \n",
              "  xxmaj direction by xxup rks is decent , though it could be better xxmaj music is okay \n",
              " \n",
              "  xxmaj ajay xxmaj devgan looks the part very well and is at ease playing his part mostly though at times he does look ill at ease in light scenes xxmaj he excels in dramatics xxmaj vidya excels in the scene front of media xxmaj pankaj has a not proper defined role and too filmy yet he excels in his part xxmaj darshan xxmaj jariwala hams as the old age villain the rest are okay,xxbos xxmaj seeing as i hate reading long essays hoping to find a point and being disappointed , i will first tell everyone that this movie was terrible . xxmaj downright terrible . xxmaj and not , surprisingly for the reasons mentioned in the first review . i thought i might agree with him , seeing as he gave the movie the rank it deserved , but was xxunk xxunk upon reading what he said . i am quite ashamed to be taking the same side as someone who commented that the movie \" definitely lacks good - looking females . \" xxmaj let me be the first to say , \" xxmaj wow ! that was definitely some serious in - depth reviewing there . xxmaj my mind can hardly comprehend the philosophical musings about this movie . \" xxmaj seriously though , a lack of \" good - looking females \" should n't be considered an essential to a movie . xxmaj if you 're desperate enough for \" good - looking females \" you should really watch other types of movies , not necessarily falling into the sci - fi category .,xxbos \" xxmaj the xxmaj final xxmaj comedown \" wants to \" say something \" about racism and inner - city violence ; unfortunately , the message is xxunk by the nonsensical script , the amateurish production , and the heavy - handed polemics . xxmaj how heavy - handed , you ask ? xxmaj to give you just one example , a black doctor comes out of his hiding place , unarmed , with his hands up in the air , ready to surrender to the police : one of the ( all - white ) cops says \" xxmaj do n't shoot him , he 's a doctor \" , to which another cop replies : \" xxmaj so what ? xxmaj he 's still a n xxrep 4 * r \" , and proceeds to shoot him in cold blood . xxmaj the cops are portrayed as ignorant , racist killers , even though at the end there are just as many dead people among them as there are among the black people who staged the riot . xxmaj and this whole event was meant somehow to \" xxunk \" the white folks to the demeaning treatment of the black folks , when in fact something like this can only breed more hate and violence on both sides . xxmaj pamela xxmaj jones , as xxmaj williams ' girlfriend , briefly lights up the screen with her smile and body , particularly in a tender sex scene , and elevates the rating of this movie from 1 to 2 out of 10 .,xxbos xxmaj this movie examines the now infamous xxmaj wannsee xxmaj conference where top xxmaj nazis gathered to discuss the organisation and implementation of the \" xxmaj final xxmaj solution \" xxmaj first off , i want to say i was amazed to see xxmaj kenneth xxmaj branagh play a xxmaj nazi . xxmaj with the slicked back blonde hair , he certainly looked the part but he did n't really act the part well . xxmaj there was none of the menace & cruelty and in the end , he came out looking like a grinning cheerleader , keeping the meeting going . xxmaj the real xxmaj xxunk would not have let the conference get out of control the way it did in the film . \n",
              " \n",
              "  xxmaj the best performance of all was undoubtedly xxmaj colin xxmaj firth who played xxmaj dr xxmaj william xxmaj xxunk , the man who wrote the 1935 xxmaj nuremberg race laws and who gave \" legal xxunk \" to everything the xxmaj nazis did . xxmaj firth 's performance was stunning , the main vocal opponent to what xxmaj xxunk was proposing . xxmaj the best part of all was when he was verbally dressing down one of the xxmaj nazi thugs . xxmaj the thug muttered \" i 'll remember you \" and xxmaj firth replies \" you should ! i 'm very well - known ! ! \" xxmaj the film is historically accurate but let 's boil it down to what it really is - 90 minutes of a group of men around a table discussing , shouting and bragging . xxmaj there 's no excitement , no real conflicts ( except the brief argument ) . xxmaj it 's just 90 minutes of talking ! xxmaj same room , same table , same people . \n",
              " \n",
              "  i 'm not sure if the xxup dvd is worth the money . i for one felt short - changed .,xxbos xxmaj this , which was shown dubbed in xxmaj italian at a xxmaj rome cinema ( not as bad as it sounds ) after being presented at the xxmaj rome xxmaj film xxmaj festival , is very much an art film and a festival film , guaranteed to charm and delight such audiences for its distinctive style , droll humor ; ability to draw comedy from the suffering of others ; appealing , cheery music ; spot - on performances ; overriding sweetness and humanity -- but doomed , because of its oddity and lack of a compelling story line , to leave average audiences wondering what they 're watching it for and why anyone admires it , how it even got made . \n",
              " \n",
              "  xxmaj andersson gives us almost a series of dry skits . xxmaj running through them are various themes . xxmaj money : a guy at the next table ( xxmaj waldemar xxmaj xxunk ) nicks the wallet of a rich bore talking on a cell phone in a restaurant over a glass of brandy , then goes and orders a set of posh suits made to order ; a deadbeat son calls his celebrated father away from an elaborate gathering to beg him for one more loan . a shrink worries aloud about his depleted investments while his wife humps him in bed wearing only a shiny xxmaj viking helmet . \n",
              " \n",
              "  xxmaj depression : an elementary teacher ( xxmaj jessica xxmaj nilsson ) breaks down in class because her husband has called her a \" harpy ; \" the rug salesman spouse ( xxmaj xxunk xxmaj xxunk ) collapses before clients because he 's called her that . xxmaj several men have depressing dreams . xxmaj but hey -- this is xxmaj sweden . xxmaj is n't everybody depressed ? xxmaj love problems : a fat bohemian couple is perpetually breaking up ; a girl groupie has fantasies about a lead guitarist , xxmaj xxunk ( xxmaj eric xxmaj xxunk ) . xxmaj wives slam doors when their husbands start to practice their instruments . ( xxmaj music too is obviously a unifying theme . xxmaj besides the dashing guitarist there 's a tuba and a drum player who 're in a xxmaj xxunk band and also play in marches and funerals . xxmaj every scene has an added lilt from the music , which xxunk links one sequence with another . ) a raging storm outside the window of many scenes , violent rain , people out in it , thunder so loud it sounds like a battle raging across the land . xxmaj this also xxunk the tone and gives the impression various scenes are happening on the same xxunk tempestuous day . \n",
              " \n",
              "  xxmaj andersson is a master of visual composition and the static middle - distance shot and the film has a foggy gray - green look engineered by xxup dp xxmaj gustav xxmaj xxunk that 's perfect because it evokes the gloom of a xxmaj swedish winter but also twinkles with the subtle colors of the director 's wit , which ends every scene with a smile . xxmaj one almost never knew xxunk could be so beautiful . ( xxmaj or perhaps one did : xxmaj xxunk xxmaj sokurov creates such effects sometimes in very different contexts . ) xxmaj within scenes and in the film as a whole there 's a kind of stillness that comes out of the visual style , the pacing of scenes , and the detached humanism of the overall outlook . xxmaj there 's something about a fully mastered style that 's calming , reassuring . \n",
              " \n",
              "  xxmaj not everything works equally well . xxmaj one may feel impatient with the succession of barely related scenes , which read too much sometimes like the work of a xxmaj saturday xxmaj night xxmaj live writer in need of xxmaj prozac . xxmaj since some scenes plainly move you or draw a laugh , it 's obvious that others fall a little flat . \n",
              " \n",
              "  xxmaj but some scenes are real zingers , and one obviously triumphant climax of pure magic is a dream -- described and then visualized dreams being another important thread ) in which the girl groupie imagines herself in a wedding dress newly married to her fey guitarist ideal , who plays a delicate series of riffs while a crowd of admirers gathers outside a big window . xxmaj the viewpoint switches to outside and the window slides slowly away as if the building the dream newlyweds look out of were a train moving out of a station to take them to their honeymoon . xxmaj it 's a fresh , subtle , and rather sublime effect . \n",
              " \n",
              "  xxmaj eventually one may feel everything in xxmaj you the xxmaj living ( xxmaj du xxmaj xxunk ) is a dream , including the recurring scene where the barman is always striking a bronze bell and announcing last order time , whereupon all the torpid customers rise from their tables and go up to get one more drink . \n",
              " \n",
              "  xxmaj an xxmaj italian reviewer called this \" a small , great film , \" and that 's right . xxmaj it limits itself in a dozen ways , but there is greatness in it . xxmaj roy xxmaj andersson is a little master ( like some medieval xxunk ) of the inner comedies of xxmaj scandanavian gloom , and this is a film unlike any other . xxmaj shown this year as a xxmaj cannes \" xxmaj un xxmaj certain xxmaj regard \" selection , this is also the xxmaj swedish entry for the 2007 xxmaj best xxmaj foreign xxmaj oscar . xxmaj hard to say what xxmaj bergman would think , but xxmaj andersson worked with him ; is famous for his elaborately produced xxup tv commercials , some of which one can see on youtube . xxmaj bergman called them \" the best commercials in the world . \" xxmaj it will be interesting to see if this director , whose craft is as subtle as his viewpoint , will start working in longer segments some time . xxmaj meanwhile , any good film buff really needs to get a look at this . \n",
              " \n",
              "  \" xxmaj xxunk \" is n't quite the right word . xxmaj that means delight in the misery of others . xxmaj andersson is teaching us to delight in the misery of all of us .\n",
              "y: LMLabelList\n",
              ",,,,\n",
              "Path: /root/.fastai/data/imdb;\n",
              "\n",
              "Test: None, model=SequentialRNN(\n",
              "  (0): AWD_LSTM(\n",
              "    (encoder): Embedding(60004, 400, padding_idx=1)\n",
              "    (encoder_dp): EmbeddingDropout(\n",
              "      (emb): Embedding(60004, 400, padding_idx=1)\n",
              "    )\n",
              "    (rnns): ModuleList(\n",
              "      (0): WeightDropout(\n",
              "        (module): LSTM(400, 1150, batch_first=True)\n",
              "      )\n",
              "      (1): WeightDropout(\n",
              "        (module): LSTM(1150, 1150, batch_first=True)\n",
              "      )\n",
              "      (2): WeightDropout(\n",
              "        (module): LSTM(1150, 400, batch_first=True)\n",
              "      )\n",
              "    )\n",
              "    (input_dp): RNNDropout()\n",
              "    (hidden_dps): ModuleList(\n",
              "      (0): RNNDropout()\n",
              "      (1): RNNDropout()\n",
              "      (2): RNNDropout()\n",
              "    )\n",
              "  )\n",
              "  (1): LinearDecoder(\n",
              "    (decoder): Linear(in_features=400, out_features=60004, bias=True)\n",
              "    (output_dp): RNNDropout()\n",
              "  )\n",
              "), opt_func=functools.partial(<class 'torch.optim.adam.Adam'>, betas=(0.9, 0.99)), loss_func=FlattenedLoss of CrossEntropyLoss(), metrics=[<function accuracy at 0x7fd39254b620>], true_wd=True, bn_wd=True, wd=0.01, train_bn=True, path=PosixPath('/root/.fastai/data/imdb'), model_dir='models', callback_fns=[functools.partial(<class 'fastai.basic_train.Recorder'>, add_time=True, silent=False)], callbacks=[...], layer_groups=[Sequential(\n",
              "  (0): WeightDropout(\n",
              "    (module): LSTM(400, 1150, batch_first=True)\n",
              "  )\n",
              "  (1): RNNDropout()\n",
              "), Sequential(\n",
              "  (0): WeightDropout(\n",
              "    (module): LSTM(1150, 1150, batch_first=True)\n",
              "  )\n",
              "  (1): RNNDropout()\n",
              "), Sequential(\n",
              "  (0): WeightDropout(\n",
              "    (module): LSTM(1150, 400, batch_first=True)\n",
              "  )\n",
              "  (1): RNNDropout()\n",
              "), Sequential(\n",
              "  (0): Embedding(60004, 400, padding_idx=1)\n",
              "  (1): EmbeddingDropout(\n",
              "    (emb): Embedding(60004, 400, padding_idx=1)\n",
              "  )\n",
              "  (2): LinearDecoder(\n",
              "    (decoder): Linear(in_features=400, out_features=60004, bias=True)\n",
              "    (output_dp): RNNDropout()\n",
              "  )\n",
              ")], add_time=True, silent=None)\n",
              "alpha: 2.0\n",
              "beta: 1.0], layer_groups=[Sequential(\n",
              "  (0): WeightDropout(\n",
              "    (module): LSTM(400, 1150, batch_first=True)\n",
              "  )\n",
              "  (1): RNNDropout()\n",
              "), Sequential(\n",
              "  (0): WeightDropout(\n",
              "    (module): LSTM(1150, 1150, batch_first=True)\n",
              "  )\n",
              "  (1): RNNDropout()\n",
              "), Sequential(\n",
              "  (0): WeightDropout(\n",
              "    (module): LSTM(1150, 400, batch_first=True)\n",
              "  )\n",
              "  (1): RNNDropout()\n",
              "), Sequential(\n",
              "  (0): Embedding(60004, 400, padding_idx=1)\n",
              "  (1): EmbeddingDropout(\n",
              "    (emb): Embedding(60004, 400, padding_idx=1)\n",
              "  )\n",
              "  (2): LinearDecoder(\n",
              "    (decoder): Linear(in_features=400, out_features=60004, bias=True)\n",
              "    (output_dp): RNNDropout()\n",
              "  )\n",
              ")], add_time=True, silent=None)"
            ]
          },
          "metadata": {
            "tags": []
          },
          "execution_count": 21
        }
      ]
    },
    {
      "cell_type": "code",
      "metadata": {
        "id": "xtkuB2KHM9jo",
        "colab_type": "code",
        "colab": {}
      },
      "source": [
        "learn.unfreeze()\n",
        "\n"
      ],
      "execution_count": 0,
      "outputs": []
    },
    {
      "cell_type": "code",
      "metadata": {
        "id": "W0c4sahhUaY5",
        "colab_type": "code",
        "outputId": "8f5390ec-fa0d-4244-f582-60bf9bcdb5d2",
        "colab": {
          "base_uri": "https://localhost:8080/",
          "height": 171
        }
      },
      "source": [
        "learn.fit_one_cycle(3, 1e-3, moms=(0.8,0.7))\n"
      ],
      "execution_count": 0,
      "outputs": [
        {
          "output_type": "error",
          "ename": "NameError",
          "evalue": "ignored",
          "traceback": [
            "\u001b[0;31m---------------------------------------------------------------------------\u001b[0m",
            "\u001b[0;31mNameError\u001b[0m                                 Traceback (most recent call last)",
            "\u001b[0;32m<ipython-input-1-7867c5468b89>\u001b[0m in \u001b[0;36m<module>\u001b[0;34m()\u001b[0m\n\u001b[0;32m----> 1\u001b[0;31m \u001b[0mlearn\u001b[0m\u001b[0;34m.\u001b[0m\u001b[0mfit_one_cycle\u001b[0m\u001b[0;34m(\u001b[0m\u001b[0;36m3\u001b[0m\u001b[0;34m,\u001b[0m \u001b[0;36m1e-3\u001b[0m\u001b[0;34m,\u001b[0m \u001b[0mmoms\u001b[0m\u001b[0;34m=\u001b[0m\u001b[0;34m(\u001b[0m\u001b[0;36m0.8\u001b[0m\u001b[0;34m,\u001b[0m\u001b[0;36m0.7\u001b[0m\u001b[0;34m)\u001b[0m\u001b[0;34m)\u001b[0m\u001b[0;34m\u001b[0m\u001b[0;34m\u001b[0m\u001b[0m\n\u001b[0m",
            "\u001b[0;31mNameError\u001b[0m: name 'learn' is not defined"
          ]
        }
      ]
    }
  ]
}